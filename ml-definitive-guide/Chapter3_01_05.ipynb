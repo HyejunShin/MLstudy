{
 "cells": [
  {
   "cell_type": "code",
   "execution_count": 4,
   "metadata": {},
   "outputs": [
    {
     "name": "stdout",
     "output_type": "stream",
     "text": [
      "MyDummyClassifier accuracy: 0.7877\n"
     ]
    }
   ],
   "source": [
    "from sklearn.base import BaseEstimator\n",
    "from sklearn.model_selection import train_test_split\n",
    "from sklearn.metrics import accuracy_score\n",
    "from sklearn import preprocessing\n",
    "import pandas as pd\n",
    "import numpy as np\n",
    "\n",
    "def fillna(df):\n",
    "    df['Age'].fillna(titanic_df['Age'].mean(), inplace=True)\n",
    "    df['Cabin'].fillna('N',inplace=True)\n",
    "    df['Embarked'].fillna('N',inplace=True)\n",
    "    df['Fare'].fillna(0,inplace=True)\n",
    "    return df\n",
    "\n",
    "def drop_features(df):\n",
    "    df.drop(['PassengerId','Name','Ticket'],axis=1,inplace=True)\n",
    "    return df\n",
    "\n",
    "def format_features(df):\n",
    "    df['Cabin']=df['Cabin'].str[:1]\n",
    "    features = ['Cabin','Sex','Embarked']\n",
    "    for feature in features:\n",
    "        le = preprocessing.LabelEncoder().fit(df[feature])\n",
    "        df[feature] = le.transform(df[feature])\n",
    "    return df\n",
    "\n",
    "def transform_features(df):\n",
    "    df = fillna(df)\n",
    "    df = drop_features(df)\n",
    "    df = format_features(df)\n",
    "    return df\n",
    "\n",
    "class MyDummyClassifier(BaseEstimator):\n",
    "    #fit() method에서는 아무것도 학습하지 않음\n",
    "    def fit(self,X,y=None):\n",
    "        pass\n",
    "    #predict() method에서는 Sex feature가 1이면 0, 그렇지 않으면 1로 예측함\n",
    "    def predict(self,X):\n",
    "        pred = np.zeros((X.shape[0],1))\n",
    "        for i in range(X.shape[0]):\n",
    "            if X['Sex'].iloc[i]==1:\n",
    "                pred[i]=0\n",
    "            else:\n",
    "                pred[i]=1\n",
    "        return pred\n",
    "    \n",
    "titanic_df = pd.read_csv('./titanic_train.csv')\n",
    "y_titanic_df = titanic_df['Survived']\n",
    "X_titanic_df = titanic_df.drop('Survived',axis=1)\n",
    "X_titanic_df = transform_features(X_titanic_df)\n",
    "X_train,X_test,y_train,y_test = train_test_split(X_titanic_df,y_titanic_df,test_size=0.2,random_state=0)\n",
    "\n",
    "#Dummy Classifier를 이용해 학습/예측/평가\n",
    "myclf = MyDummyClassifier()\n",
    "myclf.fit(X_train,y_train)\n",
    "\n",
    "mypredictions = myclf.predict(X_test)\n",
    "print('MyDummyClassifier accuracy: {0:.4f}'.format(accuracy_score(y_test,mypredictions)))\n"
   ]
  },
  {
   "cell_type": "code",
   "execution_count": 10,
   "metadata": {},
   "outputs": [
    {
     "name": "stdout",
     "output_type": "stream",
     "text": [
      "[False False False ... False False False]\n",
      "label data set size: (450,)\n",
      "test set label 0과 1의 분포도\n",
      "0    405\n",
      "1     45\n",
      "dtype: int64\n",
      "모든 예측을 0으로 하여도 정확도는:0.900\n"
     ]
    }
   ],
   "source": [
    "from sklearn.datasets import load_digits\n",
    "\n",
    "class MyFakeClassifier(BaseEstimator):\n",
    "    def fit(self,X,y):\n",
    "        pass\n",
    "    def predict(self,X):\n",
    "        #입력값으로 들어오는 X dataset의 크기 만큼 모두 0값으로 만들어서 반환\n",
    "        return np.zeros((len(X),1))\n",
    "\n",
    "digits = load_digits()\n",
    "#digits 번호가 7이면 True이고 이를 astype(int)로 1로 변환, 7이 아니면 False이고 0으로 반환\n",
    "#(digits.target==7)로만 하면 bool values를 가지니까 int로 변환\n",
    "y = (digits.target==7).astype(int)\n",
    "X_train,X_test,y_train,y_test = train_test_split(digits.data,y,random_state=11)\n",
    "\n",
    "#불균형한 label data 분포도 확인\n",
    "print('label data set size:',y_test.shape)\n",
    "print('test set label 0과 1의 분포도')\n",
    "print(pd.Series(y_test).value_counts())\n",
    "\n",
    "#Dummy Classifier로 학습/예측/정확도 평가\n",
    "fakeclf = MyFakeClassifier()\n",
    "fakeclf.fit(X_train,y_train)\n",
    "fakepred = fakeclf.predict(X_test)\n",
    "print('모든 예측을 0으로 하여도 정확도는:{0:.3f}'.format(accuracy_score(y_test,fakepred)))\n",
    "    "
   ]
  },
  {
   "cell_type": "code",
   "execution_count": 11,
   "metadata": {},
   "outputs": [
    {
     "data": {
      "text/plain": [
       "array([[405,   0],\n",
       "       [ 45,   0]])"
      ]
     },
     "execution_count": 11,
     "metadata": {},
     "output_type": "execute_result"
    }
   ],
   "source": [
    "#confusion_matrix()를 MyFakeClassifier의 예측 결과에 사용\n",
    "from sklearn.metrics import confusion_matrix\n",
    "\n",
    "confusion_matrix(y_test,fakepred)"
   ]
  },
  {
   "cell_type": "code",
   "execution_count": 14,
   "metadata": {},
   "outputs": [
    {
     "name": "stdout",
     "output_type": "stream",
     "text": [
      "confusion matrix\n",
      "[[108  10]\n",
      " [ 14  47]]\n",
      "accuracy: 0.8659, precision: 0.8246, recall: 0.7705\n"
     ]
    },
    {
     "name": "stderr",
     "output_type": "stream",
     "text": [
      "/opt/anaconda3/lib/python3.7/site-packages/sklearn/linear_model/logistic.py:432: FutureWarning: Default solver will be changed to 'lbfgs' in 0.22. Specify a solver to silence this warning.\n",
      "  FutureWarning)\n"
     ]
    }
   ],
   "source": [
    "#get_clf_eval로 titanic data logistic regression 분류 평가\n",
    "from sklearn.metrics import accuracy_score, precision_score, recall_score, confusion_matrix\n",
    "import pandas as pd\n",
    "from sklearn.model_selection import train_test_split\n",
    "from sklearn.linear_model import LogisticRegression\n",
    "\n",
    "def get_clf_eval(y_test,pred):\n",
    "    confusion = confusion_matrix(y_test,pred)\n",
    "    accuracy = accuracy_score(y_test,pred)\n",
    "    precision = precision_score(y_test,pred)\n",
    "    recall = recall_score(y_test,pred)\n",
    "    print('confusion matrix')\n",
    "    print(confusion)\n",
    "    print('accuracy: {0:.4f}, precision: {1:.4f}, recall: {2:.4f}'.format(accuracy,precision,recall))\n",
    "    \n",
    "    \n",
    "titanic_df = pd.read_csv('./titanic_train.csv')\n",
    "y_titanic_df = titanic_df['Survived']\n",
    "X_titanic_df = titanic_df.drop('Survived',axis=1)\n",
    "X_titanic_df = transform_features(X_titanic_df)\n",
    "X_train,X_test,y_train,y_test = train_test_split(X_titanic_df,y_titanic_df,test_size=0.2,random_state=11)\n",
    "\n",
    "lr_clf = LogisticRegression()\n",
    "lr_clf.fit(X_train,y_train)\n",
    "pred = lr_clf.predict(X_test)\n",
    "get_clf_eval(y_test,pred)\n"
   ]
  },
  {
   "cell_type": "code",
   "execution_count": 15,
   "metadata": {},
   "outputs": [
    {
     "name": "stdout",
     "output_type": "stream",
     "text": [
      "pred_proba() shape: (179, 2)\n",
      "pred_proba array에서 앞에 5개 추출: \n",
      " [[0.44935227 0.55064773]\n",
      " [0.86335512 0.13664488]\n",
      " [0.86429645 0.13570355]\n",
      " [0.84968519 0.15031481]\n",
      " [0.82343411 0.17656589]]\n",
      "두 개의 class 중에서 더 큰 확률을 클래스 값으로 예측\n",
      " [[0.44935227 0.55064773 1.        ]\n",
      " [0.86335512 0.13664488 0.        ]\n",
      " [0.86429645 0.13570355 0.        ]\n",
      " [0.84968519 0.15031481 0.        ]\n",
      " [0.82343411 0.17656589 0.        ]]\n"
     ]
    }
   ],
   "source": [
    "#predict_proba() 수행\n",
    "pred_proba = lr_clf.predict_proba(X_test)\n",
    "pred = lr_clf.predict(X_test)\n",
    "print('pred_proba() shape: {0}'.format(pred_proba.shape))\n",
    "print('pred_proba array에서 앞에 5개 추출: \\n', pred_proba[:5])\n",
    "\n",
    "#예측 확률 array와 예측 결괏값 array를 병합(concatenate)해 예측 확률과 결괏값을 한눈에 확인\n",
    "pred_proba_result = np.concatenate([pred_proba, pred.reshape(-1,1)],axis=1)\n",
    "print('두 개의 class 중에서 더 큰 확률을 클래스 값으로 예측\\n', pred_proba_result[:5])"
   ]
  },
  {
   "cell_type": "code",
   "execution_count": 16,
   "metadata": {},
   "outputs": [
    {
     "name": "stdout",
     "output_type": "stream",
     "text": [
      "confusion matrix\n",
      "[[108  10]\n",
      " [ 14  47]]\n",
      "accuracy: 0.8659, precision: 0.8246, recall: 0.7705\n"
     ]
    }
   ],
   "source": [
    "#Binarizer\n",
    "from sklearn.preprocessing import Binarizer\n",
    "\n",
    "#Binarizer의 threshold 설정값. 분류 결정 임곗값임\n",
    "custom_threshold = 0.5\n",
    "\n",
    "#predict_proba() 반환값의 두 번째 column, 즉 Positive class column 하나만 추출해 Binarizer 적용\n",
    "pred_proba_1 = pred_proba[:,1].reshape(-1,1)\n",
    "\n",
    "binarizer = Binarizer(threshold=custom_threshold).fit(pred_proba_1)\n",
    "custom_predict = binarizer.transform(pred_proba_1)\n",
    "\n",
    "get_clf_eval(y_test,custom_predict)"
   ]
  },
  {
   "cell_type": "code",
   "execution_count": 17,
   "metadata": {},
   "outputs": [
    {
     "name": "stdout",
     "output_type": "stream",
     "text": [
      "confusion matrix\n",
      "[[97 21]\n",
      " [11 50]]\n",
      "accuracy: 0.8212, precision: 0.7042, recall: 0.8197\n"
     ]
    }
   ],
   "source": [
    "#임계값을 0.5에서 0.4로 낮춤\n",
    "custom_threshold = 0.4\n",
    "\n",
    "#predict_proba() 반환값의 두 번째 column, 즉 Positive class column 하나만 추출해 Binarizer 적용\n",
    "pred_proba_1 = pred_proba[:,1].reshape(-1,1)\n",
    "\n",
    "binarizer = Binarizer(threshold=custom_threshold).fit(pred_proba_1)\n",
    "custom_predict = binarizer.transform(pred_proba_1)\n",
    "\n",
    "get_clf_eval(y_test,custom_predict)"
   ]
  },
  {
   "cell_type": "code",
   "execution_count": 19,
   "metadata": {},
   "outputs": [
    {
     "name": "stdout",
     "output_type": "stream",
     "text": [
      "임곗값: 0.4\n",
      "confusion matrix\n",
      "[[97 21]\n",
      " [11 50]]\n",
      "accuracy: 0.8212, precision: 0.7042, recall: 0.8197\n",
      "임곗값: 0.45\n",
      "confusion matrix\n",
      "[[105  13]\n",
      " [ 13  48]]\n",
      "accuracy: 0.8547, precision: 0.7869, recall: 0.7869\n",
      "임곗값: 0.5\n",
      "confusion matrix\n",
      "[[108  10]\n",
      " [ 14  47]]\n",
      "accuracy: 0.8659, precision: 0.8246, recall: 0.7705\n",
      "임곗값: 0.55\n",
      "confusion matrix\n",
      "[[111   7]\n",
      " [ 16  45]]\n",
      "accuracy: 0.8715, precision: 0.8654, recall: 0.7377\n",
      "임곗값: 0.6\n",
      "confusion matrix\n",
      "[[113   5]\n",
      " [ 17  44]]\n",
      "accuracy: 0.8771, precision: 0.8980, recall: 0.7213\n"
     ]
    }
   ],
   "source": [
    "#임곗값은 0.4에서 0.6까지 0.05씩 증가\n",
    "thresholds = [0.4,0.45,0.5,0.55,0.6]\n",
    "\n",
    "def get_eval_by_threshold(y_test,pred_proba_1,threshold):\n",
    "    for custom_threshold in thresholds:\n",
    "        binarizer = Binarizer(threshold=custom_threshold).fit(pred_proba_1)\n",
    "        custom_predict = binarizer.transform(pred_proba_1)\n",
    "        print('임곗값:',custom_threshold)\n",
    "        get_clf_eval(y_test,custom_predict)\n",
    "        \n",
    "get_eval_by_threshold(y_test,pred_proba[:,1].reshape(-1,1),thresholds)"
   ]
  },
  {
   "cell_type": "code",
   "execution_count": 22,
   "metadata": {},
   "outputs": [
    {
     "name": "stdout",
     "output_type": "stream",
     "text": [
      "반환된 분류 결정 임곗값 배열의 shape: (147,)\n",
      "index 10개: [  0  15  30  45  60  75  90 105 120 135]\n",
      "임곗값 10새: [0.12 0.13 0.15 0.17 0.26 0.38 0.49 0.63 0.76 0.9 ]\n",
      "정밀도: [0.379 0.424 0.455 0.519 0.618 0.676 0.797 0.93  0.964 1.   ]\n",
      "재현율: [1.    0.967 0.902 0.902 0.902 0.82  0.77  0.656 0.443 0.213]\n"
     ]
    }
   ],
   "source": [
    "#precision_recall_curve\n",
    "from sklearn.metrics import precision_recall_curve\n",
    "\n",
    "#label 값이 1일 때의 예측 확률 추출\n",
    "pred_proba_c1 = lr_clf.predict_proba(X_test)[:,1]\n",
    "\n",
    "#실제값 데이터 세트와 label 값이 1일 때의 예츨 확률을 precision_recall_curve 인자로 입력\n",
    "#threshold ndarray와 이 threshold에 따른 정밀도, 재현율 ndarray 추출\n",
    "precisions, recalls, thresholds = precision_recall_curve(y_test,pred_proba_c1)\n",
    "#일반적으로 0.11~0.95정도의 임곗값을 담은 ndarray 반환\n",
    "print('반환된 분류 결정 임곗값 배열의 shape:',thresholds.shape)\n",
    "\n",
    "#147건 중 10건만 15 step으로 추출\n",
    "thr_index = np.arange(0,thresholds.shape[0],15)\n",
    "print('index 10개:', thr_index)\n",
    "print('임곗값 10새:', np.round(thresholds[thr_index],2))\n",
    "\n",
    "#정밀도, 재현율 10개\n",
    "print('정밀도:', np.round(precisions[thr_index],3))\n",
    "print('재현율:', np.round(recalls[thr_index],3))"
   ]
  },
  {
   "cell_type": "code",
   "execution_count": 25,
   "metadata": {},
   "outputs": [
    {
     "data": {
      "image/png": "[encoded data removed]",
      "text/plain": [
       "<Figure size 576x432 with 1 Axes>"
      ]
     },
     "metadata": {
      "needs_background": "light"
     },
     "output_type": "display_data"
    }
   ],
   "source": [
    "#precision_recall_curve 정밀도와 재현율 시각화\n",
    "import matplotlib.pyplot as plt\n",
    "import matplotlib.ticker as ticker\n",
    "%matplotlib inline\n",
    "\n",
    "def precision_recall_curve_plot(y_test,pred_prob_c1):\n",
    "    precisions, recalls, thresholds = precision_recall_curve(y_test,pred_proba_c1)\n",
    "    \n",
    "    #x축을 threshold값, y축은 정밀도, 재현율 값으로 plot, 정밀도는 점선\n",
    "    plt.figure(figsize=(8,6))\n",
    "    threshold_boundary = thresholds.shape[0]\n",
    "    plt.plot(thresholds,precisions[0:threshold_boundary],linestyle='--',label='precision')\n",
    "    plt.plot(thresholds,recalls[0:threshold_boundary],label='recall')\n",
    "    \n",
    "    #threshold 값 x축 scale을 0.1단위로 변경\n",
    "    start,end = plt.xlim()\n",
    "    plt.xticks(np.round(np.arange(start,end,0.1),2))\n",
    "    \n",
    "    #x축,y축 label과 legend, grid 설정\n",
    "    plt.xlabel('Threshold value'); plt.ylabel('Precision and Recall value')\n",
    "    plt.legend();plt.grid()\n",
    "    plt.show()\n",
    "    \n",
    "precision_recall_curve_plot(y_test,lr_clf.predict_proba(X_test)[:,1])"
   ]
  },
  {
   "cell_type": "code",
   "execution_count": 26,
   "metadata": {},
   "outputs": [
    {
     "name": "stdout",
     "output_type": "stream",
     "text": [
      "F1 score:0.7966\n"
     ]
    }
   ],
   "source": [
    "#f1_score()\n",
    "from sklearn.metrics import f1_score\n",
    "f1 = f1_score(y_test,pred)\n",
    "print('F1 score:{0:.4f}'.format(f1))\n"
   ]
  },
  {
   "cell_type": "code",
   "execution_count": 27,
   "metadata": {},
   "outputs": [
    {
     "name": "stdout",
     "output_type": "stream",
     "text": [
      "임곗값: 0.4\n",
      "confusion matrix\n",
      "[[97 21]\n",
      " [11 50]]\n",
      "accuracy: 0.8212, precision: 0.7042, recall: 0.8197, f1: 0.7576\n",
      "임곗값: 0.45\n",
      "confusion matrix\n",
      "[[105  13]\n",
      " [ 13  48]]\n",
      "accuracy: 0.8547, precision: 0.7869, recall: 0.7869, f1: 0.7869\n",
      "임곗값: 0.5\n",
      "confusion matrix\n",
      "[[108  10]\n",
      " [ 14  47]]\n",
      "accuracy: 0.8659, precision: 0.8246, recall: 0.7705, f1: 0.7966\n",
      "임곗값: 0.55\n",
      "confusion matrix\n",
      "[[111   7]\n",
      " [ 16  45]]\n",
      "accuracy: 0.8715, precision: 0.8654, recall: 0.7377, f1: 0.7965\n",
      "임곗값: 0.6\n",
      "confusion matrix\n",
      "[[113   5]\n",
      " [ 17  44]]\n",
      "accuracy: 0.8771, precision: 0.8980, recall: 0.7213, f1: 0.8000\n"
     ]
    }
   ],
   "source": [
    "#get_clf_eval()에 f1_score() 추가, get_eval_by_threshold 사용\n",
    "def get_clf_eval(y_test,pred):\n",
    "    confusion = confusion_matrix(y_test,pred)\n",
    "    accuracy = accuracy_score(y_test,pred)\n",
    "    precision = precision_score(y_test,pred)\n",
    "    recall = recall_score(y_test,pred)\n",
    "    f1 = f1_score(y_test,pred)\n",
    "    \n",
    "    print('confusion matrix')\n",
    "    print(confusion)\n",
    "    print('accuracy: {0:.4f}, precision: {1:.4f}, recall: {2:.4f}, f1: {3:.4f}'.format(accuracy,precision,recall,f1))\n",
    "    \n",
    "thresholds = [0.4,0.45,0.5,0.55,0.6]\n",
    "pred_proba = lr_clf.predict_proba(X_test)\n",
    "get_eval_by_threshold(y_test,pred_proba[:,1].reshape(-1,1),thresholds)\n",
    "\n",
    "    "
   ]
  },
  {
   "cell_type": "code",
   "execution_count": 30,
   "metadata": {},
   "outputs": [
    {
     "name": "stdout",
     "output_type": "stream",
     "text": [
      "index 10개: [ 0  5 10 15 20 25 30 35 40 45]\n",
      "임곗값 10개: [1.94 0.87 0.63 0.55 0.44 0.32 0.15 0.14 0.13 0.12]\n",
      "FPR: [0.    0.008 0.025 0.059 0.127 0.203 0.559 0.602 0.695 0.847]\n",
      "TPR: [0.    0.246 0.672 0.738 0.787 0.885 0.902 0.951 0.967 0.984]\n"
     ]
    }
   ],
   "source": [
    "#roc_curve()\n",
    "from sklearn.metrics import roc_curve\n",
    "\n",
    "#label 값이 1일 때의 예측 확률 추출\n",
    "pred_proba_c1 = lr_clf.predict_proba(X_test)[:,1]\n",
    "\n",
    "fprs,tprs,thresholds = roc_curve(y_test,pred_proba_c1)\n",
    "#반환된 임계값이 47건임으로 10건만 step5으로 추출\n",
    "thr_index = np.arange(0,thresholds.shape[0],5)\n",
    "print('index 10개:', thr_index)\n",
    "print('임곗값 10개:', np.round(thresholds[thr_index],2))\n",
    "\n",
    "#FPR, TPR 값\n",
    "print('FPR:', np.round(fprs[thr_index],3))\n",
    "print('TPR:', np.round(tprs[thr_index],3))"
   ]
  },
  {
   "cell_type": "code",
   "execution_count": 31,
   "metadata": {},
   "outputs": [
    {
     "data": {
      "image/png": "[encoded data removed]",
      "text/plain": [
       "<Figure size 432x288 with 1 Axes>"
      ]
     },
     "metadata": {
      "needs_background": "light"
     },
     "output_type": "display_data"
    }
   ],
   "source": [
    "#ROC 곡선 시각화\n",
    "def roc_curve_plot(y_test,pred_proba_c1):\n",
    "    #임곗값에 따른 FPR,TPR 값을 반환받음\n",
    "    fprs,tprs,thresholds = roc_curve(y_test,pred_proba_c1)\n",
    "    #ROC curve 그림\n",
    "    plt.plot(fprs,tprs,label='ROC')\n",
    "    #가운데 직선 그림\n",
    "    plt.plot([0,1],[0,1],'k--',label='Random')\n",
    "    \n",
    "    \n",
    "    start,end = plt.xlim()\n",
    "    plt.xticks(np.round(np.arange(start,end,0.1),2))\n",
    "    plt.xlim(0,1); plt.ylim(0,1)\n",
    "    plt.xlabel('FPR(1-Sensitivity)'); plt.ylabel('TRP(Recall)')\n",
    "    plt.legend()\n",
    "\n",
    "roc_curve_plot(y_test,pred_proba[:,1])"
   ]
  },
  {
   "cell_type": "code",
   "execution_count": 32,
   "metadata": {},
   "outputs": [
    {
     "name": "stdout",
     "output_type": "stream",
     "text": [
      "ROC AUC 값:0.8429\n"
     ]
    }
   ],
   "source": [
    "#roc_auc_score()\n",
    "from sklearn.metrics import roc_auc_score\n",
    "\n",
    "pred = lr_clf.predict(X_test)\n",
    "roc_score = roc_auc_score(y_test,pred)\n",
    "print('ROC AUC 값:{0:.4f}'.format(roc_score))\n"
   ]
  },
  {
   "cell_type": "code",
   "execution_count": null,
   "metadata": {},
   "outputs": [],
   "source": []
  }
 ],
 "metadata": {
  "kernelspec": {
   "display_name": "Python 3 (ipykernel)",
   "language": "python",
   "name": "python3"
  },
  "language_info": {
   "codemirror_mode": {
    "name": "ipython",
    "version": 3
   },
   "file_extension": ".py",
   "mimetype": "text/x-python",
   "name": "python",
   "nbconvert_exporter": "python",
   "pygments_lexer": "ipython3",
   "version": "3.9.7"
  }
 },
 "nbformat": 4,
 "nbformat_minor": 2
}
